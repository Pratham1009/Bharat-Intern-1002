{
 "cells": [
  {
   "cell_type": "code",
   "execution_count": 2,
   "metadata": {},
   "outputs": [],
   "source": [
    "import numpy as np\n",
    "import pandas as pd\n",
    "import seaborn as sb\n",
    "import matplotlib.pyplot as plt"
   ]
  },
  {
   "cell_type": "code",
   "execution_count": 3,
   "metadata": {},
   "outputs": [
    {
     "data": {
      "text/html": [
       "<div>\n",
       "<style scoped>\n",
       "    .dataframe tbody tr th:only-of-type {\n",
       "        vertical-align: middle;\n",
       "    }\n",
       "\n",
       "    .dataframe tbody tr th {\n",
       "        vertical-align: top;\n",
       "    }\n",
       "\n",
       "    .dataframe thead th {\n",
       "        text-align: right;\n",
       "    }\n",
       "</style>\n",
       "<table border=\"1\" class=\"dataframe\">\n",
       "  <thead>\n",
       "    <tr style=\"text-align: right;\">\n",
       "      <th></th>\n",
       "      <th>PassengerId</th>\n",
       "      <th>Survived</th>\n",
       "      <th>Pclass</th>\n",
       "      <th>Name</th>\n",
       "      <th>Sex</th>\n",
       "      <th>Age</th>\n",
       "      <th>SibSp</th>\n",
       "      <th>Parch</th>\n",
       "      <th>Ticket</th>\n",
       "      <th>Fare</th>\n",
       "      <th>Cabin</th>\n",
       "      <th>Embarked</th>\n",
       "    </tr>\n",
       "  </thead>\n",
       "  <tbody>\n",
       "    <tr>\n",
       "      <th>0</th>\n",
       "      <td>1</td>\n",
       "      <td>0</td>\n",
       "      <td>3</td>\n",
       "      <td>Braund, Mr. Owen Harris</td>\n",
       "      <td>male</td>\n",
       "      <td>22.0</td>\n",
       "      <td>1</td>\n",
       "      <td>0</td>\n",
       "      <td>A/5 21171</td>\n",
       "      <td>7.2500</td>\n",
       "      <td>NaN</td>\n",
       "      <td>S</td>\n",
       "    </tr>\n",
       "    <tr>\n",
       "      <th>1</th>\n",
       "      <td>2</td>\n",
       "      <td>1</td>\n",
       "      <td>1</td>\n",
       "      <td>Cumings, Mrs. John Bradley (Florence Briggs Th...</td>\n",
       "      <td>female</td>\n",
       "      <td>38.0</td>\n",
       "      <td>1</td>\n",
       "      <td>0</td>\n",
       "      <td>PC 17599</td>\n",
       "      <td>71.2833</td>\n",
       "      <td>C85</td>\n",
       "      <td>C</td>\n",
       "    </tr>\n",
       "    <tr>\n",
       "      <th>2</th>\n",
       "      <td>3</td>\n",
       "      <td>1</td>\n",
       "      <td>3</td>\n",
       "      <td>Heikkinen, Miss. Laina</td>\n",
       "      <td>female</td>\n",
       "      <td>26.0</td>\n",
       "      <td>0</td>\n",
       "      <td>0</td>\n",
       "      <td>STON/O2. 3101282</td>\n",
       "      <td>7.9250</td>\n",
       "      <td>NaN</td>\n",
       "      <td>S</td>\n",
       "    </tr>\n",
       "    <tr>\n",
       "      <th>3</th>\n",
       "      <td>4</td>\n",
       "      <td>1</td>\n",
       "      <td>1</td>\n",
       "      <td>Futrelle, Mrs. Jacques Heath (Lily May Peel)</td>\n",
       "      <td>female</td>\n",
       "      <td>35.0</td>\n",
       "      <td>1</td>\n",
       "      <td>0</td>\n",
       "      <td>113803</td>\n",
       "      <td>53.1000</td>\n",
       "      <td>C123</td>\n",
       "      <td>S</td>\n",
       "    </tr>\n",
       "    <tr>\n",
       "      <th>4</th>\n",
       "      <td>5</td>\n",
       "      <td>0</td>\n",
       "      <td>3</td>\n",
       "      <td>Allen, Mr. William Henry</td>\n",
       "      <td>male</td>\n",
       "      <td>35.0</td>\n",
       "      <td>0</td>\n",
       "      <td>0</td>\n",
       "      <td>373450</td>\n",
       "      <td>8.0500</td>\n",
       "      <td>NaN</td>\n",
       "      <td>S</td>\n",
       "    </tr>\n",
       "  </tbody>\n",
       "</table>\n",
       "</div>"
      ],
      "text/plain": [
       "   PassengerId  Survived  Pclass  \\\n",
       "0            1         0       3   \n",
       "1            2         1       1   \n",
       "2            3         1       3   \n",
       "3            4         1       1   \n",
       "4            5         0       3   \n",
       "\n",
       "                                                Name     Sex   Age  SibSp  \\\n",
       "0                            Braund, Mr. Owen Harris    male  22.0      1   \n",
       "1  Cumings, Mrs. John Bradley (Florence Briggs Th...  female  38.0      1   \n",
       "2                             Heikkinen, Miss. Laina  female  26.0      0   \n",
       "3       Futrelle, Mrs. Jacques Heath (Lily May Peel)  female  35.0      1   \n",
       "4                           Allen, Mr. William Henry    male  35.0      0   \n",
       "\n",
       "   Parch            Ticket     Fare Cabin Embarked  \n",
       "0      0         A/5 21171   7.2500   NaN        S  \n",
       "1      0          PC 17599  71.2833   C85        C  \n",
       "2      0  STON/O2. 3101282   7.9250   NaN        S  \n",
       "3      0            113803  53.1000  C123        S  \n",
       "4      0            373450   8.0500   NaN        S  "
      ]
     },
     "execution_count": 3,
     "metadata": {},
     "output_type": "execute_result"
    }
   ],
   "source": [
    "df = pd.read_csv('../Datasets/titanic.csv')\n",
    "df.head()"
   ]
  },
  {
   "cell_type": "markdown",
   "metadata": {},
   "source": [
    "### Checking missing values (NaN Values)"
   ]
  },
  {
   "cell_type": "code",
   "execution_count": 4,
   "metadata": {},
   "outputs": [
    {
     "data": {
      "text/plain": [
       "PassengerId      0\n",
       "Survived         0\n",
       "Pclass           0\n",
       "Name             0\n",
       "Sex              0\n",
       "Age            177\n",
       "SibSp            0\n",
       "Parch            0\n",
       "Ticket           0\n",
       "Fare             0\n",
       "Cabin          687\n",
       "Embarked         2\n",
       "dtype: int64"
      ]
     },
     "execution_count": 4,
     "metadata": {},
     "output_type": "execute_result"
    }
   ],
   "source": [
    "df.isnull().sum()"
   ]
  },
  {
   "cell_type": "markdown",
   "metadata": {},
   "source": [
    "### Drop unnecessary Columns"
   ]
  },
  {
   "cell_type": "code",
   "execution_count": 5,
   "metadata": {},
   "outputs": [
    {
     "name": "stderr",
     "output_type": "stream",
     "text": [
      "C:\\Users\\Administrator\\AppData\\Local\\Temp\\ipykernel_4004\\1398947358.py:1: FutureWarning: In a future version of pandas all arguments of DataFrame.drop except for the argument 'labels' will be keyword-only.\n",
      "  df = df.drop(['PassengerId', 'Name', 'Ticket', 'Cabin', 'Fare'], 1)\n"
     ]
    },
    {
     "data": {
      "text/html": [
       "<div>\n",
       "<style scoped>\n",
       "    .dataframe tbody tr th:only-of-type {\n",
       "        vertical-align: middle;\n",
       "    }\n",
       "\n",
       "    .dataframe tbody tr th {\n",
       "        vertical-align: top;\n",
       "    }\n",
       "\n",
       "    .dataframe thead th {\n",
       "        text-align: right;\n",
       "    }\n",
       "</style>\n",
       "<table border=\"1\" class=\"dataframe\">\n",
       "  <thead>\n",
       "    <tr style=\"text-align: right;\">\n",
       "      <th></th>\n",
       "      <th>Survived</th>\n",
       "      <th>Pclass</th>\n",
       "      <th>Sex</th>\n",
       "      <th>Age</th>\n",
       "      <th>SibSp</th>\n",
       "      <th>Parch</th>\n",
       "      <th>Embarked</th>\n",
       "    </tr>\n",
       "  </thead>\n",
       "  <tbody>\n",
       "    <tr>\n",
       "      <th>0</th>\n",
       "      <td>0</td>\n",
       "      <td>3</td>\n",
       "      <td>male</td>\n",
       "      <td>22.0</td>\n",
       "      <td>1</td>\n",
       "      <td>0</td>\n",
       "      <td>S</td>\n",
       "    </tr>\n",
       "    <tr>\n",
       "      <th>1</th>\n",
       "      <td>1</td>\n",
       "      <td>1</td>\n",
       "      <td>female</td>\n",
       "      <td>38.0</td>\n",
       "      <td>1</td>\n",
       "      <td>0</td>\n",
       "      <td>C</td>\n",
       "    </tr>\n",
       "    <tr>\n",
       "      <th>2</th>\n",
       "      <td>1</td>\n",
       "      <td>3</td>\n",
       "      <td>female</td>\n",
       "      <td>26.0</td>\n",
       "      <td>0</td>\n",
       "      <td>0</td>\n",
       "      <td>S</td>\n",
       "    </tr>\n",
       "    <tr>\n",
       "      <th>3</th>\n",
       "      <td>1</td>\n",
       "      <td>1</td>\n",
       "      <td>female</td>\n",
       "      <td>35.0</td>\n",
       "      <td>1</td>\n",
       "      <td>0</td>\n",
       "      <td>S</td>\n",
       "    </tr>\n",
       "    <tr>\n",
       "      <th>4</th>\n",
       "      <td>0</td>\n",
       "      <td>3</td>\n",
       "      <td>male</td>\n",
       "      <td>35.0</td>\n",
       "      <td>0</td>\n",
       "      <td>0</td>\n",
       "      <td>S</td>\n",
       "    </tr>\n",
       "  </tbody>\n",
       "</table>\n",
       "</div>"
      ],
      "text/plain": [
       "   Survived  Pclass     Sex   Age  SibSp  Parch Embarked\n",
       "0         0       3    male  22.0      1      0        S\n",
       "1         1       1  female  38.0      1      0        C\n",
       "2         1       3  female  26.0      0      0        S\n",
       "3         1       1  female  35.0      1      0        S\n",
       "4         0       3    male  35.0      0      0        S"
      ]
     },
     "execution_count": 5,
     "metadata": {},
     "output_type": "execute_result"
    }
   ],
   "source": [
    "df = df.drop(['PassengerId', 'Name', 'Ticket', 'Cabin', 'Fare'], 1)\n",
    "df.head()"
   ]
  },
  {
   "cell_type": "markdown",
   "metadata": {},
   "source": [
    "### Checking Unique Values"
   ]
  },
  {
   "cell_type": "code",
   "execution_count": 6,
   "metadata": {},
   "outputs": [
    {
     "name": "stdout",
     "output_type": "stream",
     "text": [
      "Column: Pclass\n",
      "Unique Values:\n",
      "[3 1 2]\n",
      "\n",
      "Column: SibSp\n",
      "Unique Values:\n",
      "[1 0 3 4 2 5 8]\n",
      "\n",
      "Column: Parch\n",
      "Unique Values:\n",
      "[0 1 2 5 3 4 6]\n",
      "\n",
      "Column: Embarked\n",
      "Unique Values:\n",
      "['S' 'C' 'Q' nan]\n",
      "\n",
      "Column: Survived\n",
      "Unique Values:\n",
      "[0 1]\n",
      "\n"
     ]
    }
   ],
   "source": [
    "for i in ['Pclass', 'SibSp', 'Parch', 'Embarked', 'Survived']:\n",
    "    print(\"Column:\",i)\n",
    "    print(\"Unique Values:\")\n",
    "    print(df[i].unique())\n",
    "    print(\"\")"
   ]
  },
  {
   "cell_type": "markdown",
   "metadata": {},
   "source": [
    "### Visualizing Distribution of Age on PClass"
   ]
  },
  {
   "cell_type": "code",
   "execution_count": 7,
   "metadata": {},
   "outputs": [
    {
     "data": {
      "image/png": "[encoded data removed]",
      "text/plain": [
       "<Figure size 432x288 with 1 Axes>"
      ]
     },
     "metadata": {
      "needs_background": "light"
     },
     "output_type": "display_data"
    }
   ],
   "source": [
    "sb.boxplot(data=df, x='Pclass', y='Age')\n",
    "plt.show()"
   ]
  },
  {
   "cell_type": "markdown",
   "metadata": {},
   "source": [
    "### Calculating Average Age of Persons for each PClass"
   ]
  },
  {
   "cell_type": "code",
   "execution_count": 8,
   "metadata": {},
   "outputs": [
    {
     "name": "stdout",
     "output_type": "stream",
     "text": [
      "Average Age of Persons for PClass 1 is 38.233440860215055\n",
      "Average Age of Persons for PClass 2 is 29.87763005780347\n",
      "Average Age of Persons for PClass 3 is 25.14061971830986\n"
     ]
    }
   ],
   "source": [
    "avgagep1 = df[df['Pclass']==1]['Age'].mean()\n",
    "avgagep2 = df[df['Pclass']==2]['Age'].mean()\n",
    "avgagep3 = df[df['Pclass']==3]['Age'].mean()\n",
    "print(\"Average Age of Persons for PClass 1 is\", avgagep1)\n",
    "print(\"Average Age of Persons for PClass 2 is\", avgagep2)\n",
    "print(\"Average Age of Persons for PClass 3 is\", avgagep3)"
   ]
  },
  {
   "cell_type": "code",
   "execution_count": 9,
   "metadata": {},
   "outputs": [],
   "source": [
    "r1 = df[df['Pclass']==1][['Age']]\n",
    "r1.fillna(avgagep1, inplace=True)\n",
    "\n",
    "r2 = df[df['Pclass']==2][['Age']]\n",
    "r2.fillna(avgagep1, inplace=True)\n",
    "\n",
    "r3 = df[df['Pclass']==3][['Age']]\n",
    "r3.fillna(avgagep1, inplace=True)"
   ]
  },
  {
   "cell_type": "code",
   "execution_count": 10,
   "metadata": {},
   "outputs": [
    {
     "data": {
      "text/html": [
       "<div>\n",
       "<style scoped>\n",
       "    .dataframe tbody tr th:only-of-type {\n",
       "        vertical-align: middle;\n",
       "    }\n",
       "\n",
       "    .dataframe tbody tr th {\n",
       "        vertical-align: top;\n",
       "    }\n",
       "\n",
       "    .dataframe thead th {\n",
       "        text-align: right;\n",
       "    }\n",
       "</style>\n",
       "<table border=\"1\" class=\"dataframe\">\n",
       "  <thead>\n",
       "    <tr style=\"text-align: right;\">\n",
       "      <th></th>\n",
       "      <th>Age</th>\n",
       "    </tr>\n",
       "  </thead>\n",
       "  <tbody>\n",
       "    <tr>\n",
       "      <th>1</th>\n",
       "      <td>38.000000</td>\n",
       "    </tr>\n",
       "    <tr>\n",
       "      <th>3</th>\n",
       "      <td>35.000000</td>\n",
       "    </tr>\n",
       "    <tr>\n",
       "      <th>6</th>\n",
       "      <td>54.000000</td>\n",
       "    </tr>\n",
       "    <tr>\n",
       "      <th>11</th>\n",
       "      <td>58.000000</td>\n",
       "    </tr>\n",
       "    <tr>\n",
       "      <th>23</th>\n",
       "      <td>28.000000</td>\n",
       "    </tr>\n",
       "    <tr>\n",
       "      <th>27</th>\n",
       "      <td>19.000000</td>\n",
       "    </tr>\n",
       "    <tr>\n",
       "      <th>30</th>\n",
       "      <td>40.000000</td>\n",
       "    </tr>\n",
       "    <tr>\n",
       "      <th>31</th>\n",
       "      <td>38.233441</td>\n",
       "    </tr>\n",
       "    <tr>\n",
       "      <th>34</th>\n",
       "      <td>28.000000</td>\n",
       "    </tr>\n",
       "    <tr>\n",
       "      <th>35</th>\n",
       "      <td>42.000000</td>\n",
       "    </tr>\n",
       "  </tbody>\n",
       "</table>\n",
       "</div>"
      ],
      "text/plain": [
       "          Age\n",
       "1   38.000000\n",
       "3   35.000000\n",
       "6   54.000000\n",
       "11  58.000000\n",
       "23  28.000000\n",
       "27  19.000000\n",
       "30  40.000000\n",
       "31  38.233441\n",
       "34  28.000000\n",
       "35  42.000000"
      ]
     },
     "execution_count": 10,
     "metadata": {},
     "output_type": "execute_result"
    }
   ],
   "source": [
    "r4 = pd.concat([r1, r2, r3], axis=0)\n",
    "r4.head(10)"
   ]
  },
  {
   "cell_type": "code",
   "execution_count": 11,
   "metadata": {},
   "outputs": [
    {
     "data": {
      "text/html": [
       "<div>\n",
       "<style scoped>\n",
       "    .dataframe tbody tr th:only-of-type {\n",
       "        vertical-align: middle;\n",
       "    }\n",
       "\n",
       "    .dataframe tbody tr th {\n",
       "        vertical-align: top;\n",
       "    }\n",
       "\n",
       "    .dataframe thead th {\n",
       "        text-align: right;\n",
       "    }\n",
       "</style>\n",
       "<table border=\"1\" class=\"dataframe\">\n",
       "  <thead>\n",
       "    <tr style=\"text-align: right;\">\n",
       "      <th></th>\n",
       "      <th>Age</th>\n",
       "    </tr>\n",
       "  </thead>\n",
       "  <tbody>\n",
       "    <tr>\n",
       "      <th>0</th>\n",
       "      <td>22.0</td>\n",
       "    </tr>\n",
       "    <tr>\n",
       "      <th>1</th>\n",
       "      <td>38.0</td>\n",
       "    </tr>\n",
       "    <tr>\n",
       "      <th>2</th>\n",
       "      <td>26.0</td>\n",
       "    </tr>\n",
       "    <tr>\n",
       "      <th>3</th>\n",
       "      <td>35.0</td>\n",
       "    </tr>\n",
       "    <tr>\n",
       "      <th>4</th>\n",
       "      <td>35.0</td>\n",
       "    </tr>\n",
       "  </tbody>\n",
       "</table>\n",
       "</div>"
      ],
      "text/plain": [
       "    Age\n",
       "0  22.0\n",
       "1  38.0\n",
       "2  26.0\n",
       "3  35.0\n",
       "4  35.0"
      ]
     },
     "execution_count": 11,
     "metadata": {},
     "output_type": "execute_result"
    }
   ],
   "source": [
    "r4.sort_index(inplace=True)\n",
    "r4.head()"
   ]
  },
  {
   "cell_type": "code",
   "execution_count": 12,
   "metadata": {},
   "outputs": [],
   "source": [
    "df['Age'] = r4['Age']"
   ]
  },
  {
   "cell_type": "code",
   "execution_count": 13,
   "metadata": {},
   "outputs": [
    {
     "data": {
      "text/plain": [
       "Survived    0\n",
       "Pclass      0\n",
       "Sex         0\n",
       "Age         0\n",
       "SibSp       0\n",
       "Parch       0\n",
       "Embarked    2\n",
       "dtype: int64"
      ]
     },
     "execution_count": 13,
     "metadata": {},
     "output_type": "execute_result"
    }
   ],
   "source": [
    "df.isnull().sum()"
   ]
  },
  {
   "cell_type": "code",
   "execution_count": 14,
   "metadata": {},
   "outputs": [
    {
     "data": {
      "text/plain": [
       "Survived    0\n",
       "Pclass      0\n",
       "Sex         0\n",
       "Age         0\n",
       "SibSp       0\n",
       "Parch       0\n",
       "Embarked    0\n",
       "dtype: int64"
      ]
     },
     "execution_count": 14,
     "metadata": {},
     "output_type": "execute_result"
    }
   ],
   "source": [
    "df.dropna(inplace = True)\n",
    "df.isnull().sum()"
   ]
  },
  {
   "cell_type": "code",
   "execution_count": 15,
   "metadata": {},
   "outputs": [
    {
     "data": {
      "text/html": [
       "<div>\n",
       "<style scoped>\n",
       "    .dataframe tbody tr th:only-of-type {\n",
       "        vertical-align: middle;\n",
       "    }\n",
       "\n",
       "    .dataframe tbody tr th {\n",
       "        vertical-align: top;\n",
       "    }\n",
       "\n",
       "    .dataframe thead th {\n",
       "        text-align: right;\n",
       "    }\n",
       "</style>\n",
       "<table border=\"1\" class=\"dataframe\">\n",
       "  <thead>\n",
       "    <tr style=\"text-align: right;\">\n",
       "      <th></th>\n",
       "      <th>Survived</th>\n",
       "      <th>Pclass</th>\n",
       "      <th>Sex</th>\n",
       "      <th>Age</th>\n",
       "      <th>SibSp</th>\n",
       "      <th>Parch</th>\n",
       "      <th>Embarked</th>\n",
       "    </tr>\n",
       "  </thead>\n",
       "  <tbody>\n",
       "    <tr>\n",
       "      <th>0</th>\n",
       "      <td>0</td>\n",
       "      <td>3</td>\n",
       "      <td>male</td>\n",
       "      <td>22.0</td>\n",
       "      <td>1</td>\n",
       "      <td>0</td>\n",
       "      <td>S</td>\n",
       "    </tr>\n",
       "    <tr>\n",
       "      <th>1</th>\n",
       "      <td>1</td>\n",
       "      <td>1</td>\n",
       "      <td>female</td>\n",
       "      <td>38.0</td>\n",
       "      <td>1</td>\n",
       "      <td>0</td>\n",
       "      <td>C</td>\n",
       "    </tr>\n",
       "    <tr>\n",
       "      <th>2</th>\n",
       "      <td>1</td>\n",
       "      <td>3</td>\n",
       "      <td>female</td>\n",
       "      <td>26.0</td>\n",
       "      <td>0</td>\n",
       "      <td>0</td>\n",
       "      <td>S</td>\n",
       "    </tr>\n",
       "    <tr>\n",
       "      <th>3</th>\n",
       "      <td>1</td>\n",
       "      <td>1</td>\n",
       "      <td>female</td>\n",
       "      <td>35.0</td>\n",
       "      <td>1</td>\n",
       "      <td>0</td>\n",
       "      <td>S</td>\n",
       "    </tr>\n",
       "    <tr>\n",
       "      <th>4</th>\n",
       "      <td>0</td>\n",
       "      <td>3</td>\n",
       "      <td>male</td>\n",
       "      <td>35.0</td>\n",
       "      <td>0</td>\n",
       "      <td>0</td>\n",
       "      <td>S</td>\n",
       "    </tr>\n",
       "  </tbody>\n",
       "</table>\n",
       "</div>"
      ],
      "text/plain": [
       "   Survived  Pclass     Sex   Age  SibSp  Parch Embarked\n",
       "0         0       3    male  22.0      1      0        S\n",
       "1         1       1  female  38.0      1      0        C\n",
       "2         1       3  female  26.0      0      0        S\n",
       "3         1       1  female  35.0      1      0        S\n",
       "4         0       3    male  35.0      0      0        S"
      ]
     },
     "execution_count": 15,
     "metadata": {},
     "output_type": "execute_result"
    }
   ],
   "source": [
    "df.head()"
   ]
  },
  {
   "cell_type": "markdown",
   "metadata": {},
   "source": [
    "### Some Visualizations:"
   ]
  },
  {
   "cell_type": "code",
   "execution_count": 16,
   "metadata": {},
   "outputs": [
    {
     "data": {
      "text/plain": [
       "0"
      ]
     },
     "execution_count": 16,
     "metadata": {},
     "output_type": "execute_result"
    }
   ],
   "source": [
    "df.Embarked.isnull().sum()\n"
   ]
  },
  {
   "cell_type": "code",
   "execution_count": 123,
   "metadata": {},
   "outputs": [
    {
     "data": {
      "image/png": "[encoded data removed]",
      "text/plain": [
       "<Figure size 432x288 with 1 Axes>"
      ]
     },
     "metadata": {
      "needs_background": "light"
     },
     "output_type": "display_data"
    }
   ],
   "source": [
    "sb.countplot(df.Survived, palette='winter')\n",
    "plt.show()"
   ]
  },
  {
   "cell_type": "code",
   "execution_count": 124,
   "metadata": {},
   "outputs": [
    {
     "data": {
      "image/png": "[encoded data removed]",
      "text/plain": [
       "<Figure size 432x288 with 1 Axes>"
      ]
     },
     "metadata": {
      "needs_background": "light"
     },
     "output_type": "display_data"
    }
   ],
   "source": [
    "sb.countplot(df.Survived, hue=df.Sex, palette='cool')\n",
    "plt.show()"
   ]
  },
  {
   "cell_type": "code",
   "execution_count": 125,
   "metadata": {},
   "outputs": [
    {
     "data": {
      "image/png": "[encoded data removed]",
      "text/plain": [
       "<Figure size 432x288 with 1 Axes>"
      ]
     },
     "metadata": {
      "needs_background": "light"
     },
     "output_type": "display_data"
    }
   ],
   "source": [
    "sb.countplot(df.Survived, hue=df.Pclass, palette='spring')\n",
    "plt.show()"
   ]
  },
  {
   "cell_type": "markdown",
   "metadata": {},
   "source": [
    "### Creating Dummy Variables"
   ]
  },
  {
   "cell_type": "code",
   "execution_count": 126,
   "metadata": {},
   "outputs": [],
   "source": [
    "df_new = pd.get_dummies(columns=['Sex', 'Embarked', 'Pclass'], data=df, drop_first=True)"
   ]
  },
  {
   "cell_type": "code",
   "execution_count": 127,
   "metadata": {},
   "outputs": [
    {
     "data": {
      "text/html": [
       "<div>\n",
       "<style scoped>\n",
       "    .dataframe tbody tr th:only-of-type {\n",
       "        vertical-align: middle;\n",
       "    }\n",
       "\n",
       "    .dataframe tbody tr th {\n",
       "        vertical-align: top;\n",
       "    }\n",
       "\n",
       "    .dataframe thead th {\n",
       "        text-align: right;\n",
       "    }\n",
       "</style>\n",
       "<table border=\"1\" class=\"dataframe\">\n",
       "  <thead>\n",
       "    <tr style=\"text-align: right;\">\n",
       "      <th></th>\n",
       "      <th>Survived</th>\n",
       "      <th>Age</th>\n",
       "      <th>SibSp</th>\n",
       "      <th>Parch</th>\n",
       "      <th>Sex_male</th>\n",
       "      <th>Embarked_Q</th>\n",
       "      <th>Embarked_S</th>\n",
       "      <th>Pclass_2</th>\n",
       "      <th>Pclass_3</th>\n",
       "    </tr>\n",
       "  </thead>\n",
       "  <tbody>\n",
       "    <tr>\n",
       "      <th>0</th>\n",
       "      <td>0</td>\n",
       "      <td>22.0</td>\n",
       "      <td>1</td>\n",
       "      <td>0</td>\n",
       "      <td>1</td>\n",
       "      <td>0</td>\n",
       "      <td>1</td>\n",
       "      <td>0</td>\n",
       "      <td>1</td>\n",
       "    </tr>\n",
       "    <tr>\n",
       "      <th>1</th>\n",
       "      <td>1</td>\n",
       "      <td>38.0</td>\n",
       "      <td>1</td>\n",
       "      <td>0</td>\n",
       "      <td>0</td>\n",
       "      <td>0</td>\n",
       "      <td>0</td>\n",
       "      <td>0</td>\n",
       "      <td>0</td>\n",
       "    </tr>\n",
       "    <tr>\n",
       "      <th>2</th>\n",
       "      <td>1</td>\n",
       "      <td>26.0</td>\n",
       "      <td>0</td>\n",
       "      <td>0</td>\n",
       "      <td>0</td>\n",
       "      <td>0</td>\n",
       "      <td>1</td>\n",
       "      <td>0</td>\n",
       "      <td>1</td>\n",
       "    </tr>\n",
       "    <tr>\n",
       "      <th>3</th>\n",
       "      <td>1</td>\n",
       "      <td>35.0</td>\n",
       "      <td>1</td>\n",
       "      <td>0</td>\n",
       "      <td>0</td>\n",
       "      <td>0</td>\n",
       "      <td>1</td>\n",
       "      <td>0</td>\n",
       "      <td>0</td>\n",
       "    </tr>\n",
       "    <tr>\n",
       "      <th>4</th>\n",
       "      <td>0</td>\n",
       "      <td>35.0</td>\n",
       "      <td>0</td>\n",
       "      <td>0</td>\n",
       "      <td>1</td>\n",
       "      <td>0</td>\n",
       "      <td>1</td>\n",
       "      <td>0</td>\n",
       "      <td>1</td>\n",
       "    </tr>\n",
       "  </tbody>\n",
       "</table>\n",
       "</div>"
      ],
      "text/plain": [
       "   Survived   Age  SibSp  Parch  Sex_male  Embarked_Q  Embarked_S  Pclass_2  \\\n",
       "0         0  22.0      1      0         1           0           1         0   \n",
       "1         1  38.0      1      0         0           0           0         0   \n",
       "2         1  26.0      0      0         0           0           1         0   \n",
       "3         1  35.0      1      0         0           0           1         0   \n",
       "4         0  35.0      0      0         1           0           1         0   \n",
       "\n",
       "   Pclass_3  \n",
       "0         1  \n",
       "1         0  \n",
       "2         1  \n",
       "3         0  \n",
       "4         1  "
      ]
     },
     "execution_count": 127,
     "metadata": {},
     "output_type": "execute_result"
    }
   ],
   "source": [
    "df_new.head()"
   ]
  },
  {
   "cell_type": "markdown",
   "metadata": {},
   "source": [
    "### Seperating Features and Target"
   ]
  },
  {
   "cell_type": "code",
   "execution_count": 128,
   "metadata": {},
   "outputs": [],
   "source": [
    "x = df_new.iloc[:, 1:].values\n",
    "y = df_new.iloc[:, 0].values"
   ]
  },
  {
   "cell_type": "markdown",
   "metadata": {},
   "source": [
    "### Splitting Data into Train-Test"
   ]
  },
  {
   "cell_type": "code",
   "execution_count": 129,
   "metadata": {},
   "outputs": [],
   "source": [
    "from sklearn.model_selection import train_test_split\n",
    "x_train, x_test, y_train, y_test = train_test_split(x, y, test_size = 0.3)"
   ]
  },
  {
   "cell_type": "markdown",
   "metadata": {},
   "source": [
    "### Creating Predictive model, feeding data to model, predicting testing data on model"
   ]
  },
  {
   "cell_type": "code",
   "execution_count": 130,
   "metadata": {},
   "outputs": [],
   "source": [
    "from sklearn.linear_model import LogisticRegression\n",
    "model = LogisticRegression()"
   ]
  },
  {
   "cell_type": "code",
   "execution_count": 131,
   "metadata": {},
   "outputs": [
    {
     "name": "stderr",
     "output_type": "stream",
     "text": [
      "C:\\Users\\asus\\anaconda3\\lib\\site-packages\\sklearn\\linear_model\\_logistic.py:762: ConvergenceWarning: lbfgs failed to converge (status=1):\n",
      "STOP: TOTAL NO. of ITERATIONS REACHED LIMIT.\n",
      "\n",
      "Increase the number of iterations (max_iter) or scale the data as shown in:\n",
      "    https://scikit-learn.org/stable/modules/preprocessing.html\n",
      "Please also refer to the documentation for alternative solver options:\n",
      "    https://scikit-learn.org/stable/modules/linear_model.html#logistic-regression\n",
      "  n_iter_i = _check_optimize_result(\n"
     ]
    },
    {
     "data": {
      "text/plain": [
       "LogisticRegression()"
      ]
     },
     "execution_count": 131,
     "metadata": {},
     "output_type": "execute_result"
    }
   ],
   "source": [
    "model.fit(x_train, y_train)"
   ]
  },
  {
   "cell_type": "code",
   "execution_count": 132,
   "metadata": {},
   "outputs": [
    {
     "data": {
      "text/plain": [
       "array([1, 0, 0, 0, 1, 0, 1, 0, 1, 0, 0, 1, 1, 1, 1, 0, 0, 0, 0, 0, 0, 0,\n",
       "       0, 1, 1, 1, 0, 0, 1, 0, 0, 0, 0, 1, 1, 1, 0, 0, 0, 0, 1, 0, 0, 0,\n",
       "       0, 1, 1, 1, 0, 1, 0, 1, 0, 1, 0, 1, 1, 0, 0, 1, 0, 0, 0, 1, 0, 0,\n",
       "       1, 0, 0, 0, 0, 1, 1, 0, 1, 1, 1, 0, 1, 0, 1, 0, 1, 1, 1, 1, 1, 1,\n",
       "       0, 0, 0, 0, 0, 1, 0, 0, 0, 1, 0, 0, 0, 1, 1, 1, 1, 0, 0, 0, 0, 0,\n",
       "       0, 0, 0, 0, 0, 0, 0, 0, 1, 1, 0, 0, 1, 0, 1, 0, 0, 0, 0, 0, 0, 0,\n",
       "       1, 0, 1, 1, 0, 0, 1, 1, 0, 0, 0, 0, 1, 0, 1, 1, 0, 0, 0, 1, 0, 1,\n",
       "       0, 1, 0, 0, 1, 0, 1, 0, 0, 0, 1, 1, 0, 0, 0, 0, 0, 0, 0, 1, 0, 0,\n",
       "       1, 1, 0, 0, 0, 1, 0, 1, 0, 0, 1, 1, 1, 0, 1, 0, 0, 0, 0, 1, 0, 0,\n",
       "       1, 0, 1, 0, 0, 1, 0, 0, 0, 0, 1, 1, 0, 0, 0, 0, 1, 1, 1, 0, 0, 1,\n",
       "       0, 0, 0, 0, 0, 0, 0, 0, 0, 1, 0, 0, 1, 1, 0, 0, 0, 0, 1, 1, 1, 1,\n",
       "       0, 0, 1, 0, 0, 0, 1, 1, 0, 0, 0, 1, 0, 0, 0, 0, 1, 1, 0, 0, 0, 0,\n",
       "       1, 0, 0], dtype=int64)"
      ]
     },
     "execution_count": 132,
     "metadata": {},
     "output_type": "execute_result"
    }
   ],
   "source": [
    "y_pred = model.predict(x_test)\n",
    "y_pred"
   ]
  },
  {
   "cell_type": "code",
   "execution_count": 133,
   "metadata": {},
   "outputs": [
    {
     "data": {
      "text/plain": [
       "array([[0.24402941, 0.75597059],\n",
       "       [0.76295656, 0.23704344],\n",
       "       [0.8963315 , 0.1036685 ],\n",
       "       [0.94254492, 0.05745508],\n",
       "       [0.40478824, 0.59521176],\n",
       "       [0.8963315 , 0.1036685 ],\n",
       "       [0.16542968, 0.83457032],\n",
       "       [0.8891856 , 0.1108144 ],\n",
       "       [0.45898169, 0.54101831],\n",
       "       [0.51039101, 0.48960899],\n",
       "       [0.81078899, 0.18921101],\n",
       "       [0.17309395, 0.82690605],\n",
       "       [0.1291171 , 0.8708829 ],\n",
       "       [0.23642151, 0.76357849],\n",
       "       [0.10152733, 0.89847267],\n",
       "       [0.90624331, 0.09375669],\n",
       "       [0.8209809 , 0.1790191 ],\n",
       "       [0.9531084 , 0.0468916 ],\n",
       "       [0.62397791, 0.37602209],\n",
       "       [0.87396734, 0.12603266],\n",
       "       [0.72378881, 0.27621119],\n",
       "       [0.94733499, 0.05266501],\n",
       "       [0.77913764, 0.22086236],\n",
       "       [0.23642151, 0.76357849],\n",
       "       [0.03208396, 0.96791604],\n",
       "       [0.37779422, 0.62220578],\n",
       "       [0.78546656, 0.21453344],\n",
       "       [0.90950816, 0.09049184],\n",
       "       [0.17588644, 0.82411356],\n",
       "       [0.83133613, 0.16866387],\n",
       "       [0.66889333, 0.33110667],\n",
       "       [0.91254738, 0.08745262],\n",
       "       [0.92234316, 0.07765684],\n",
       "       [0.24123305, 0.75876695],\n",
       "       [0.18799981, 0.81200019],\n",
       "       [0.17626899, 0.82373101],\n",
       "       [0.94254492, 0.05745508],\n",
       "       [0.70868487, 0.29131513],\n",
       "       [0.94254492, 0.05745508],\n",
       "       [0.94254492, 0.05745508],\n",
       "       [0.37779422, 0.62220578],\n",
       "       [0.56133296, 0.43866704],\n",
       "       [0.80051093, 0.19948907],\n",
       "       [0.90264093, 0.09735907],\n",
       "       [0.6522299 , 0.3477701 ],\n",
       "       [0.08874745, 0.91125255],\n",
       "       [0.20525368, 0.79474632],\n",
       "       [0.2045296 , 0.7954704 ],\n",
       "       [0.53149543, 0.46850457],\n",
       "       [0.22477516, 0.77522484],\n",
       "       [0.89404826, 0.10595174],\n",
       "       [0.29465621, 0.70534379],\n",
       "       [0.91237089, 0.08762911],\n",
       "       [0.04484132, 0.95515868],\n",
       "       [0.51518339, 0.48481661],\n",
       "       [0.42235827, 0.57764173],\n",
       "       [0.35595722, 0.64404278],\n",
       "       [0.611254  , 0.388746  ],\n",
       "       [0.66889333, 0.33110667],\n",
       "       [0.19890125, 0.80109875],\n",
       "       [0.94254492, 0.05745508],\n",
       "       [0.8209809 , 0.1790191 ],\n",
       "       [0.94254492, 0.05745508],\n",
       "       [0.49070671, 0.50929329],\n",
       "       [0.79772581, 0.20227419],\n",
       "       [0.94254492, 0.05745508],\n",
       "       [0.10706501, 0.89293499],\n",
       "       [0.89282693, 0.10717307],\n",
       "       [0.92088452, 0.07911548],\n",
       "       [0.79166262, 0.20833738],\n",
       "       [0.94254492, 0.05745508],\n",
       "       [0.44423547, 0.55576453],\n",
       "       [0.05207812, 0.94792188],\n",
       "       [0.93800988, 0.06199012],\n",
       "       [0.34353547, 0.65646453],\n",
       "       [0.06900464, 0.93099536],\n",
       "       [0.08704173, 0.91295827],\n",
       "       [0.59754123, 0.40245877],\n",
       "       [0.43891395, 0.56108605],\n",
       "       [0.51463151, 0.48536849],\n",
       "       [0.04113667, 0.95886333],\n",
       "       [0.8891856 , 0.1108144 ],\n",
       "       [0.04576651, 0.95423349],\n",
       "       [0.12641373, 0.87358627],\n",
       "       [0.44423547, 0.55576453],\n",
       "       [0.08280524, 0.91719476],\n",
       "       [0.35284737, 0.64715263],\n",
       "       [0.10332658, 0.89667342],\n",
       "       [0.59341372, 0.40658628],\n",
       "       [0.60431159, 0.39568841],\n",
       "       [0.91813417, 0.08186583],\n",
       "       [0.92863571, 0.07136429],\n",
       "       [0.915297  , 0.084703  ],\n",
       "       [0.14591233, 0.85408767],\n",
       "       [0.846237  , 0.153763  ],\n",
       "       [0.75008874, 0.24991126],\n",
       "       [0.75935658, 0.24064342],\n",
       "       [0.19541525, 0.80458475],\n",
       "       [0.52607201, 0.47392799],\n",
       "       [0.88504498, 0.11495502],\n",
       "       [0.90460072, 0.09539928],\n",
       "       [0.37779422, 0.62220578],\n",
       "       [0.46049823, 0.53950177],\n",
       "       [0.0763701 , 0.9236299 ],\n",
       "       [0.12284563, 0.87715437],\n",
       "       [0.65563301, 0.34436699],\n",
       "       [0.88921853, 0.11078147],\n",
       "       [0.95474168, 0.04525832],\n",
       "       [0.95594278, 0.04405722],\n",
       "       [0.92628421, 0.07371579],\n",
       "       [0.91813417, 0.08186583],\n",
       "       [0.88766642, 0.11233358],\n",
       "       [0.9535925 , 0.0464075 ],\n",
       "       [0.91237089, 0.08762911],\n",
       "       [0.72378881, 0.27621119],\n",
       "       [0.86676186, 0.13323814],\n",
       "       [0.94254492, 0.05745508],\n",
       "       [0.8891856 , 0.1108144 ],\n",
       "       [0.41479971, 0.58520029],\n",
       "       [0.07727991, 0.92272009],\n",
       "       [0.88766642, 0.11233358],\n",
       "       [0.86903355, 0.13096645],\n",
       "       [0.15373468, 0.84626532],\n",
       "       [0.8963315 , 0.1036685 ],\n",
       "       [0.3519343 , 0.6480657 ],\n",
       "       [0.92218475, 0.07781525],\n",
       "       [0.90935371, 0.09064629],\n",
       "       [0.8963315 , 0.1036685 ],\n",
       "       [0.94385322, 0.05614678],\n",
       "       [0.84863938, 0.15136062],\n",
       "       [0.74925241, 0.25074759],\n",
       "       [0.94967231, 0.05032769],\n",
       "       [0.4503151 , 0.5496849 ],\n",
       "       [0.85335155, 0.14664845],\n",
       "       [0.11088787, 0.88911213],\n",
       "       [0.24613   , 0.75387   ],\n",
       "       [0.8891856 , 0.1108144 ],\n",
       "       [0.87726365, 0.12273635],\n",
       "       [0.39541829, 0.60458171],\n",
       "       [0.08228291, 0.91771709],\n",
       "       [0.9261332 , 0.0738668 ],\n",
       "       [0.90846818, 0.09153182],\n",
       "       [0.66889333, 0.33110667],\n",
       "       [0.70508757, 0.29491243],\n",
       "       [0.18698613, 0.81301387],\n",
       "       [0.92863571, 0.07136429],\n",
       "       [0.08825036, 0.91174964],\n",
       "       [0.06293395, 0.93706605],\n",
       "       [0.85979926, 0.14020074],\n",
       "       [0.52607201, 0.47392799],\n",
       "       [0.68493035, 0.31506965],\n",
       "       [0.42082763, 0.57917237],\n",
       "       [0.88921853, 0.11078147],\n",
       "       [0.43145049, 0.56854951],\n",
       "       [0.80806092, 0.19193908],\n",
       "       [0.12424301, 0.87575699],\n",
       "       [0.73503115, 0.26496885],\n",
       "       [0.93354455, 0.06645545],\n",
       "       [0.03830278, 0.96169722],\n",
       "       [0.80054974, 0.19945026],\n",
       "       [0.35188853, 0.64811147],\n",
       "       [0.81078899, 0.18921101],\n",
       "       [0.96613061, 0.03386939],\n",
       "       [0.63321649, 0.36678351],\n",
       "       [0.02985429, 0.97014571],\n",
       "       [0.40110111, 0.59889889],\n",
       "       [0.88550422, 0.11449578],\n",
       "       [0.94254492, 0.05745508],\n",
       "       [0.66936545, 0.33063455],\n",
       "       [0.62397791, 0.37602209],\n",
       "       [0.8963315 , 0.1036685 ],\n",
       "       [0.88766642, 0.11233358],\n",
       "       [0.62397791, 0.37602209],\n",
       "       [0.11088787, 0.88911213],\n",
       "       [0.91813417, 0.08186583],\n",
       "       [0.76608216, 0.23391784],\n",
       "       [0.09786134, 0.90213866],\n",
       "       [0.19854943, 0.80145057],\n",
       "       [0.52124001, 0.47875999],\n",
       "       [0.94406838, 0.05593162],\n",
       "       [0.90935371, 0.09064629],\n",
       "       [0.19996364, 0.80003636],\n",
       "       [0.96091437, 0.03908563],\n",
       "       [0.04684113, 0.95315887],\n",
       "       [0.93340735, 0.06659265],\n",
       "       [0.90935371, 0.09064629],\n",
       "       [0.18536556, 0.81463444],\n",
       "       [0.05856842, 0.94143158],\n",
       "       [0.06636396, 0.93363604],\n",
       "       [0.94254492, 0.05745508],\n",
       "       [0.34353547, 0.65646453],\n",
       "       [0.7945494 , 0.2054506 ],\n",
       "       [0.8891856 , 0.1108144 ],\n",
       "       [0.91237089, 0.08762911],\n",
       "       [0.94254492, 0.05745508],\n",
       "       [0.066655  , 0.933345  ],\n",
       "       [0.57799001, 0.42200999],\n",
       "       [0.94544969, 0.05455031],\n",
       "       [0.05264147, 0.94735853],\n",
       "       [0.88550422, 0.11449578],\n",
       "       [0.40707397, 0.59292603],\n",
       "       [0.94254492, 0.05745508],\n",
       "       [0.93581337, 0.06418663],\n",
       "       [0.07378954, 0.92621046],\n",
       "       [0.88550422, 0.11449578],\n",
       "       [0.8891856 , 0.1108144 ],\n",
       "       [0.94254492, 0.05745508],\n",
       "       [0.92088452, 0.07911548],\n",
       "       [0.43586683, 0.56413317],\n",
       "       [0.34840121, 0.65159879],\n",
       "       [0.62397791, 0.37602209],\n",
       "       [0.92628421, 0.07371579],\n",
       "       [0.71629754, 0.28370246],\n",
       "       [0.67363851, 0.32636149],\n",
       "       [0.0790276 , 0.9209724 ],\n",
       "       [0.35188853, 0.64811147],\n",
       "       [0.20380034, 0.79619966],\n",
       "       [0.95141918, 0.04858082],\n",
       "       [0.60790171, 0.39209829],\n",
       "       [0.4342377 , 0.5657623 ],\n",
       "       [0.65670797, 0.34329203],\n",
       "       [0.91664076, 0.08335924],\n",
       "       [0.62495174, 0.37504826],\n",
       "       [0.8963315 , 0.1036685 ],\n",
       "       [0.93340735, 0.06659265],\n",
       "       [0.69728496, 0.30271504],\n",
       "       [0.86928481, 0.13071519],\n",
       "       [0.94254492, 0.05745508],\n",
       "       [0.62615893, 0.37384107],\n",
       "       [0.35188853, 0.64811147],\n",
       "       [0.94231397, 0.05768603],\n",
       "       [0.92485188, 0.07514812],\n",
       "       [0.12330098, 0.87669902],\n",
       "       [0.05920188, 0.94079812],\n",
       "       [0.82047451, 0.17952549],\n",
       "       [0.9261332 , 0.0738668 ],\n",
       "       [0.93788128, 0.06211872],\n",
       "       [0.87774968, 0.12225032],\n",
       "       [0.33656563, 0.66343437],\n",
       "       [0.42289741, 0.57710259],\n",
       "       [0.06344753, 0.93655247],\n",
       "       [0.35402975, 0.64597025],\n",
       "       [0.88921853, 0.11078147],\n",
       "       [0.89973434, 0.10026566],\n",
       "       [0.38801799, 0.61198201],\n",
       "       [0.70508757, 0.29491243],\n",
       "       [0.87659731, 0.12340269],\n",
       "       [0.94254492, 0.05745508],\n",
       "       [0.35188853, 0.64811147],\n",
       "       [0.14349018, 0.85650982],\n",
       "       [0.92863571, 0.07136429],\n",
       "       [0.85335155, 0.14664845],\n",
       "       [0.96212582, 0.03787418],\n",
       "       [0.35188853, 0.64811147],\n",
       "       [0.96028358, 0.03971642],\n",
       "       [0.80833707, 0.19166293],\n",
       "       [0.92355017, 0.07644983],\n",
       "       [0.93312574, 0.06687426],\n",
       "       [0.10376887, 0.89623113],\n",
       "       [0.38656911, 0.61343089],\n",
       "       [0.77267604, 0.22732396],\n",
       "       [0.58139306, 0.41860694],\n",
       "       [0.50267064, 0.49732936],\n",
       "       [0.93010607, 0.06989393],\n",
       "       [0.44423547, 0.55576453],\n",
       "       [0.81211613, 0.18788387],\n",
       "       [0.86033943, 0.13966057]])"
      ]
     },
     "execution_count": 133,
     "metadata": {},
     "output_type": "execute_result"
    }
   ],
   "source": [
    "predicted_probability = model.predict_proba(x_test)\n",
    "predicted_probability"
   ]
  },
  {
   "cell_type": "markdown",
   "metadata": {},
   "source": [
    "### Model Evaluation using Accuracy Score and Confusion Matrix"
   ]
  },
  {
   "cell_type": "code",
   "execution_count": 134,
   "metadata": {},
   "outputs": [
    {
     "name": "stdout",
     "output_type": "stream",
     "text": [
      "Accuracy Score: 0.7940074906367042\n"
     ]
    }
   ],
   "source": [
    "from sklearn.metrics import accuracy_score\n",
    "score = accuracy_score(y_test, y_pred)\n",
    "print(\"Accuracy Score:\", score)"
   ]
  },
  {
   "cell_type": "code",
   "execution_count": 135,
   "metadata": {},
   "outputs": [
    {
     "data": {
      "text/plain": [
       "array([[137,  23],\n",
       "       [ 32,  75]], dtype=int64)"
      ]
     },
     "execution_count": 135,
     "metadata": {},
     "output_type": "execute_result"
    }
   ],
   "source": [
    "from sklearn.metrics import confusion_matrix\n",
    "cm = confusion_matrix(y_test, y_pred)\n",
    "cm"
   ]
  },
  {
   "cell_type": "code",
   "execution_count": 136,
   "metadata": {},
   "outputs": [
    {
     "data": {
      "image/png": "[encoded data removed]",
      "text/plain": [
       "<Figure size 432x288 with 2 Axes>"
      ]
     },
     "metadata": {
      "needs_background": "light"
     },
     "output_type": "display_data"
    }
   ],
   "source": [
    "sb.heatmap(cm, annot=True, fmt='d', \n",
    "           xticklabels=['SurvivedNo', 'SurvivedYes'],\n",
    "           yticklabels=['SurvivedNo', 'SurvivedYes'])\n",
    "plt.show()"
   ]
  },
  {
   "cell_type": "markdown",
   "metadata": {},
   "source": [
    "### Cross Validation"
   ]
  },
  {
   "cell_type": "code",
   "execution_count": 137,
   "metadata": {},
   "outputs": [],
   "source": [
    "from sklearn.model_selection import cross_val_score, KFold"
   ]
  },
  {
   "cell_type": "code",
   "execution_count": 138,
   "metadata": {},
   "outputs": [],
   "source": [
    "kfold = KFold(n_splits=15)"
   ]
  },
  {
   "cell_type": "code",
   "execution_count": 139,
   "metadata": {},
   "outputs": [],
   "source": [
    "modelCV = LogisticRegression()"
   ]
  },
  {
   "cell_type": "code",
   "execution_count": 140,
   "metadata": {},
   "outputs": [],
   "source": [
    "scoring = 'accuracy'"
   ]
  },
  {
   "cell_type": "code",
   "execution_count": 144,
   "metadata": {},
   "outputs": [
    {
     "name": "stderr",
     "output_type": "stream",
     "text": [
      "C:\\Users\\asus\\anaconda3\\lib\\site-packages\\sklearn\\linear_model\\_logistic.py:762: ConvergenceWarning: lbfgs failed to converge (status=1):\n",
      "STOP: TOTAL NO. of ITERATIONS REACHED LIMIT.\n",
      "\n",
      "Increase the number of iterations (max_iter) or scale the data as shown in:\n",
      "    https://scikit-learn.org/stable/modules/preprocessing.html\n",
      "Please also refer to the documentation for alternative solver options:\n",
      "    https://scikit-learn.org/stable/modules/linear_model.html#logistic-regression\n",
      "  n_iter_i = _check_optimize_result(\n",
      "C:\\Users\\asus\\anaconda3\\lib\\site-packages\\sklearn\\linear_model\\_logistic.py:762: ConvergenceWarning: lbfgs failed to converge (status=1):\n",
      "STOP: TOTAL NO. of ITERATIONS REACHED LIMIT.\n",
      "\n",
      "Increase the number of iterations (max_iter) or scale the data as shown in:\n",
      "    https://scikit-learn.org/stable/modules/preprocessing.html\n",
      "Please also refer to the documentation for alternative solver options:\n",
      "    https://scikit-learn.org/stable/modules/linear_model.html#logistic-regression\n",
      "  n_iter_i = _check_optimize_result(\n",
      "C:\\Users\\asus\\anaconda3\\lib\\site-packages\\sklearn\\linear_model\\_logistic.py:762: ConvergenceWarning: lbfgs failed to converge (status=1):\n",
      "STOP: TOTAL NO. of ITERATIONS REACHED LIMIT.\n",
      "\n",
      "Increase the number of iterations (max_iter) or scale the data as shown in:\n",
      "    https://scikit-learn.org/stable/modules/preprocessing.html\n",
      "Please also refer to the documentation for alternative solver options:\n",
      "    https://scikit-learn.org/stable/modules/linear_model.html#logistic-regression\n",
      "  n_iter_i = _check_optimize_result(\n",
      "C:\\Users\\asus\\anaconda3\\lib\\site-packages\\sklearn\\linear_model\\_logistic.py:762: ConvergenceWarning: lbfgs failed to converge (status=1):\n",
      "STOP: TOTAL NO. of ITERATIONS REACHED LIMIT.\n",
      "\n",
      "Increase the number of iterations (max_iter) or scale the data as shown in:\n",
      "    https://scikit-learn.org/stable/modules/preprocessing.html\n",
      "Please also refer to the documentation for alternative solver options:\n",
      "    https://scikit-learn.org/stable/modules/linear_model.html#logistic-regression\n",
      "  n_iter_i = _check_optimize_result(\n",
      "C:\\Users\\asus\\anaconda3\\lib\\site-packages\\sklearn\\linear_model\\_logistic.py:762: ConvergenceWarning: lbfgs failed to converge (status=1):\n",
      "STOP: TOTAL NO. of ITERATIONS REACHED LIMIT.\n",
      "\n",
      "Increase the number of iterations (max_iter) or scale the data as shown in:\n",
      "    https://scikit-learn.org/stable/modules/preprocessing.html\n",
      "Please also refer to the documentation for alternative solver options:\n",
      "    https://scikit-learn.org/stable/modules/linear_model.html#logistic-regression\n",
      "  n_iter_i = _check_optimize_result(\n"
     ]
    }
   ],
   "source": [
    "scores = cross_val_score(modelCV, x, y, cv=10, scoring='accuracy')"
   ]
  },
  {
   "cell_type": "code",
   "execution_count": 145,
   "metadata": {},
   "outputs": [
    {
     "data": {
      "text/plain": [
       "array([0.7752809 , 0.78651685, 0.7752809 , 0.82022472, 0.7752809 ,\n",
       "       0.78651685, 0.79775281, 0.78651685, 0.83146067, 0.82954545])"
      ]
     },
     "execution_count": 145,
     "metadata": {},
     "output_type": "execute_result"
    }
   ],
   "source": [
    "scores"
   ]
  },
  {
   "cell_type": "code",
   "execution_count": 146,
   "metadata": {},
   "outputs": [
    {
     "name": "stdout",
     "output_type": "stream",
     "text": [
      "10-fold cross validation average accuracy: 0.796\n"
     ]
    }
   ],
   "source": [
    "print(\"10-fold cross validation average accuracy: %.3f\" % (scores.mean()))"
   ]
  },
  {
   "cell_type": "code",
   "execution_count": null,
   "metadata": {},
   "outputs": [],
   "source": []
  }
 ],
 "metadata": {
  "kernelspec": {
   "display_name": "Python 3 (ipykernel)",
   "language": "python",
   "name": "python3"
  },
  "language_info": {
   "codemirror_mode": {
    "name": "ipython",
    "version": 3
   },
   "file_extension": ".py",
   "mimetype": "text/x-python",
   "name": "python",
   "nbconvert_exporter": "python",
   "pygments_lexer": "ipython3",
   "version": "3.9.12"
  }
 },
 "nbformat": 4,
 "nbformat_minor": 2
}
